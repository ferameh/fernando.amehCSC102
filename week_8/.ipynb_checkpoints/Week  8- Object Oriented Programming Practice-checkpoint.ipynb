{
 "cells": [
  {
   "cell_type": "markdown",
   "metadata": {},
   "source": [
    "# Object Oriented Programming Concepts\n",
    "<ul>\n",
    "    <li>Python is an object-oriented programming language. Unlike procedure-oriented programming, where the main emphasis is on functions, object-oriented programming stresses on objects.</li><li>\n",
    "\n",
    "An object is simply a collection of data (variables) and methods (functions) that act on those data. Similarly, a class is a blueprint for that object.</li><li>\n",
    "\n",
    "We can think of a class as a sketch (prototype) of a house. It contains all the details about the floors, doors, windows, etc. Based on these descriptions we build the house. House is the object.</li><li>\n",
    "\n",
    "As many houses can be made from a house's blueprint, we can create many objects from a class. </li><li>Object-oriented Programming (OOPs) is a programming paradigm that uses objects and classes in programming.</li>\n",
    "    <li> \n",
    "It aims to implement real-world entities like inheritance, polymorphisms, encapsulation, etc. in the programming.</li>\n",
    "    <li>\n",
    "The main concept of OOPs is to bind the data and the functions that work on that together as a single unit so that no other part of the code can access this data. </li></ul>"
   ]
  },
  {
   "cell_type": "markdown",
   "metadata": {},
   "source": [
    "# Main Concepts of OOP\n",
    "   <ul><li> Class</li>\n",
    "    <li>\n",
    "Objects</li>\n",
    "    <li>\n",
    "Polymorphism</li>\n",
    "    <li>\n",
    "Encapsulation</li>\n",
    "    <li>\n",
    "Inheritance</li></ul>"
   ]
  },
  {
   "cell_type": "markdown",
   "metadata": {},
   "source": [
    "## Class\n",
    "<ul><li>A class is a collection of objects.</li><li> A class contains the blueprints or the prototype from which the objects are being created. </li><li>It is a logical entity that contains some attributes and methods. </li></ul>\n",
    "\n",
    "Let's take an example:<br><br>\n",
    "<img src=\"class.jpg\" align=\"left\">\n",
    "A parrot is an object, as it has the following properties:\n",
    "\n",
    "<ul><li>name, age, color as attributes</li><li>\n",
    "singing, dancing as behavior</li></ul>\n"
   ]
  },
  {
   "cell_type": "markdown",
   "metadata": {},
   "source": [
    "### Some points on Python class:  \n",
    "\n",
    "<ul><li>Classes are created by keyword class.</li><li>\n",
    "Attributes are the variables that belong to a class.</li><li>\n",
    "Attributes are always public and can be accessed using the dot (.) operator. Eg.: Myclass.Myattribute</li></ul>\n",
    "The concept of OOP in Python focuses on creating reusable code. This concept is also known as DRY (Don't Repeat Yourself)."
   ]
  },
  {
   "cell_type": "markdown",
   "metadata": {},
   "source": [
    "### Creating an empty class"
   ]
  },
  {
   "cell_type": "code",
   "execution_count": null,
   "metadata": {},
   "outputs": [],
   "source": [
    "# A Python program to\n",
    "# demonstrate defining\n",
    "# a class\n",
    "\n",
    "class Parrot():\n",
    "    pass"
   ]
  },
  {
   "cell_type": "markdown",
   "metadata": {},
   "source": [
    "## Objects\n",
    "<ul><li>The object is an entity that has a state and behavior associated with it.</li><li> It may be any real-world object like a mouse, keyboard, chair, table, pen, etc.</li><li> Integers, strings, floating-point numbers, even arrays, and dictionaries, are all objects.</li><li> You’ve been using objects all along and may not even realize it.</li></ul>"
   ]
  },
  {
   "cell_type": "markdown",
   "metadata": {},
   "source": [
    "### An object consists of :\n",
    "\n",
    "<img src=\"objects.jpg\" width=\"300\" height=\"360\" align=\"left\">\n",
    "\n",
    "<ul><li><b>State:</b> It is represented by the attributes of an object. It also reflects the properties of an object.</li><li>\n",
    "<b>Behavior:</b> It is represented by the methods of an object. It also reflects the response of an object to other objects.</li><li>\n",
    "<b>Identity:</b> It gives a unique name to an object and enables one object to interact with other objects.</li></ul>"
   ]
  },
  {
   "cell_type": "markdown",
   "metadata": {},
   "source": [
    "### Creating an object \n",
    "<ul><li>An object (instance) is an instantiation of a class.</li><li> When class is defined, only the description for the object is defined. Therefore, no memory or storage is allocated.</li></ul>"
   ]
  },
  {
   "cell_type": "code",
   "execution_count": null,
   "metadata": {},
   "outputs": [],
   "source": [
    "obj = Parrot()"
   ]
  },
  {
   "cell_type": "markdown",
   "metadata": {},
   "source": [
    "### Declaring an object"
   ]
  },
  {
   "cell_type": "code",
   "execution_count": 1,
   "metadata": {
    "scrolled": true
   },
   "outputs": [
    {
     "name": "stdout",
     "output_type": "stream",
     "text": [
      "dog\n",
      "mammal\n",
      "I'm a mammal\n",
      "I'm a dog\n"
     ]
    }
   ],
   "source": [
    "# Python program to\n",
    "# demonstrate instantiating\n",
    "# a class\n",
    "\n",
    "\n",
    "class Dog():\n",
    "    pass\n",
    "    # A simple class\n",
    "    # attribute\n",
    "    attr1 = \"mammal\"\n",
    "    attr2 = \"dog\"\n",
    "    print(attr2)\n",
    "    \n",
    "    # A class method\n",
    "    def Fun(self):\n",
    "        print(\"I'm a\", self.attr1)\n",
    "        print(\"I'm a\", self.attr2)\n",
    "\n",
    "# Object instantiation\n",
    "Rodger = Dog()\n",
    "\n",
    "# Accessing class attributes\n",
    "# and method through objects\n",
    "\n",
    "print(Rodger.attr1)\n",
    "Rodger.Fun()\n"
   ]
  },
  {
   "cell_type": "markdown",
   "metadata": {},
   "source": [
    "### Understanding some basic keywords\n"
   ]
  },
  {
   "cell_type": "markdown",
   "metadata": {},
   "source": [
    "#### The self\n",
    "<ul><li><b>self</b> represents the instance of the class. By using the <b>“self”</b>  we can access the attributes and methods of the class in python. It binds the attributes with the given arguments.</li><li> Python decided to do methods in a way that makes the instance to which the method belongs be passed automatically, but not received automatically: the first parameter of methods is the instance the method is called on.</li><li>\n",
    "    Class methods must have an extra first parameter in the method definition. We do not give a value for this parameter when we call the method, Python provides it.</li><li>\n",
    "If we have a method that takes no arguments, then we still have to have one argument.</li><li>\n",
    "This is similar to this pointer in C++ and this reference in Java.</li></ul>"
   ]
  },
  {
   "cell_type": "markdown",
   "metadata": {},
   "source": [
    "### Characteristics of SELF\n",
    "#### <ul><li>Self is always pointing to Current Object.</li></ul>"
   ]
  },
  {
   "cell_type": "code",
   "execution_count": 2,
   "metadata": {},
   "outputs": [
    {
     "name": "stdout",
     "output_type": "stream",
     "text": [
      "Address of self =  2924207559952\n",
      "His name is Fernando\n",
      "Address of class object =  2924207559952\n"
     ]
    }
   ],
   "source": [
    "# It is clearly seen that self and obj is referring to the same object\n",
    "\n",
    "class check():\n",
    "    pass\n",
    "    def __init__(self,name):\n",
    "        self.name = name\n",
    "        print(\"Address of self = \",id(self)) \n",
    "    def turn(self):\n",
    "        print('His name is', self.name)\n",
    "obj = check('Fernando')\n",
    "obj.turn()\n",
    "print(\"Address of class object = \",id(obj))\n"
   ]
  },
  {
   "cell_type": "code",
   "execution_count": 32,
   "metadata": {},
   "outputs": [
    {
     "name": "stdout",
     "output_type": "stream",
     "text": [
      "Model is Toyota Corolla\n",
      "color is blue\n",
      "Model is Kia Cerato\n",
      "color is green\n"
     ]
    }
   ],
   "source": [
    "# Another example using SELF\n",
    "\n",
    "class car():\n",
    "\n",
    "    # init method or constructor\n",
    "    def __init__(self, model, color):\n",
    "        self.model = model\n",
    "        self.color = color\n",
    "\n",
    "    def show(self):\n",
    "        print(\"Model is\", self.model )\n",
    "        print(\"color is\", self.color )\n",
    "\n",
    "\n",
    "toyota = car(\"Toyota Corolla\", \"blue\")\n",
    "kia = car(\"Kia Cerato\", \"green\")\n",
    "\n",
    "toyota.show() # same output as car.show(toyota)\n",
    "kia.show() # same output as car.show(kia)\n",
    "    \n"
   ]
  },
  {
   "cell_type": "markdown",
   "metadata": {},
   "source": [
    "#### <ul><li>Self is the first argument to be passed in Constructor and Instance Method.</li></ul>"
   ]
  },
  {
   "cell_type": "code",
   "execution_count": 33,
   "metadata": {},
   "outputs": [
    {
     "name": "stdout",
     "output_type": "stream",
     "text": [
      "This is Constructor\n",
      "Worked fine\n"
     ]
    }
   ],
   "source": [
    "# Self is always required as the first argument\n",
    "class check:\n",
    "    def __init__(self):\n",
    "        print(\"This is Constructor\")\n",
    "    def house(self):\n",
    "        attr= 'Peter'\n",
    "object = check()\n",
    "print(\"Worked fine\")"
   ]
  },
  {
   "cell_type": "markdown",
   "metadata": {},
   "source": [
    "#### <ul><li>Self is a convention and not a Python keyword.</li></ul>"
   ]
  },
  {
   "cell_type": "code",
   "execution_count": 35,
   "metadata": {},
   "outputs": [
    {
     "name": "stdout",
     "output_type": "stream",
     "text": [
      "we have used another parameter name in place of self\n"
     ]
    }
   ],
   "source": [
    "# Write Python3 code here\n",
    "\n",
    "class this_is_class:\n",
    "    def __init__(in_place_of_self):\n",
    "        print(\"we have used another \"\n",
    "        \"parameter name in place of self\")\n",
    "\n",
    "object = this_is_class()\n"
   ]
  },
  {
   "cell_type": "markdown",
   "metadata": {},
   "source": [
    "### The __ __init__ __ method \n",
    "<ul><li>The __init__ method is similar to constructors in C++ and Java. </li><li>It is run as soon as an object of a class is instantiated. </li><li>The method is useful to do any initialization you want to do with your object. </li>\n",
    "    <li>Constructors are used to initialize the object’s state. The task of constructors is to initialize(assign values) to the data members of the class when an object of class is created. Like methods, a constructor also contains collection of statements(i.e. instructions) that are executed at time of Object creation. It is run as soon as an object of a class is instantiated. The method is useful to do any initialization you want to do with your object.</li></ul>"
   ]
  },
  {
   "cell_type": "code",
   "execution_count": 48,
   "metadata": {},
   "outputs": [
    {
     "name": "stdout",
     "output_type": "stream",
     "text": [
      "Hello, my name is Hans Madugu\n"
     ]
    }
   ],
   "source": [
    "# A class with init method\n",
    "\n",
    "class Person():\n",
    "    pass\n",
    "    # init method or constructor\n",
    "    def __init__(self, name):\n",
    "        self.name = name\n",
    "       \n",
    "    # Method\n",
    "    def say_hi(self):\n",
    "        print('Hello, my name is', self.name)\n",
    "p = Person('Hans Madugu')\n",
    "\n",
    "p.say_hi()\n"
   ]
  },
  {
   "cell_type": "code",
   "execution_count": 46,
   "metadata": {},
   "outputs": [
    {
     "name": "stdout",
     "output_type": "stream",
     "text": [
      "Hello, my name is Enobasi\n",
      "Hello, my name is Leela\n",
      "Hello, my name is Divine\n"
     ]
    }
   ],
   "source": [
    "# Another class with init method\n",
    "class Person:\n",
    "\n",
    "    # init method or constructor\n",
    "    def __init__(self, name):\n",
    "        self.name =name\n",
    "      \n",
    "    # Method\n",
    "    def say_hi(self):\n",
    "        print('Hello, my name is', self.name)\n",
    "\n",
    "# Creating different objects\n",
    "\n",
    "p1 = Person('Enobasi')\n",
    "p2 = Person('Leela')\n",
    "p3 = Person('Divine')\n",
    "\n",
    "p1.say_hi()\n",
    "p2.say_hi()\n",
    "p3.say_hi()\n"
   ]
  },
  {
   "cell_type": "markdown",
   "metadata": {},
   "source": [
    "### Constructors in Python\n",
    "<ul><li>Constructors are generally used for instantiating an object.</li><li>The task of constructors is to initialize(assign values) to the data members of the class when an object of the class is created.</li><li> In Python the __init__() method is called the constructor and is always called when an object is created.</li></ul>"
   ]
  },
  {
   "cell_type": "markdown",
   "metadata": {},
   "source": [
    "### Types of constructors : \n",
    "\n",
    "<ul><li><b>default constructor:</b> The default constructor is a simple constructor which doesn’t accept any arguments. Its definition has only one argument which is a reference to the instance being constructed.</li><li>\n",
    "    <b>parameterized constructor:</b> constructor with parameters is known as parameterized constructor. The parameterized constructor takes its first argument as a reference to the instance being constructed known as self and the rest of the arguments are provided by the programmer.</li></ul>"
   ]
  },
  {
   "cell_type": "markdown",
   "metadata": {},
   "source": [
    "#### Default Constructor"
   ]
  },
  {
   "cell_type": "code",
   "execution_count": 95,
   "metadata": {},
   "outputs": [
    {
     "name": "stdout",
     "output_type": "stream",
     "text": [
      "computer science\n"
     ]
    }
   ],
   "source": [
    "class Program:\n",
    "\n",
    "    # default constructor\n",
    "    def __init__(self,course):\n",
    "        self.course = \"CSC 102 - Introduction to Problem Solving\"\n",
    "\n",
    "    # a method for printing data members\n",
    "   \n",
    "    def print_course(self):\n",
    "        print(self.course)\n",
    "\n",
    " # creating object of the class\n",
    "obj = Program('computer science')\n",
    "\n",
    "# calling the instance method using the object obj\n",
    "obj.print_course()\n"
   ]
  },
  {
   "cell_type": "markdown",
   "metadata": {},
   "source": [
    "#### Parameterized Constructor"
   ]
  },
  {
   "cell_type": "code",
   "execution_count": 57,
   "metadata": {},
   "outputs": [
    {
     "name": "stdout",
     "output_type": "stream",
     "text": [
      "Enter first number: 2\n",
      "Enter second number: 2\n",
      "First number = 2\n",
      "Second number = 2\n",
      "Addition of two numbers = 4\n"
     ]
    }
   ],
   "source": [
    "class Addition:\n",
    "    first = 0\n",
    "    second = 0\n",
    "    answer = 0\n",
    "    \n",
    "    # parameterized constructor\n",
    "    def __init__(self, f, s,):\n",
    "        self.first = f\n",
    "        self.second = s\n",
    "\n",
    "    def display(self):\n",
    "        print(\"First number = \" + str(self.first))\n",
    "        print(\"Second number = \" + str(self.second))\n",
    "        print(\"Addition of two numbers = \" + str(self.answer))\n",
    "\n",
    "    def calculate(self):\n",
    "        self.answer = self.first + self.second\n",
    "0\n",
    "# creating object of the class\n",
    "# this will invoke parameterized constructor\n",
    "num1 = int(input(\"Enter first number: \"))\n",
    "num2 = int(input(\"Enter second number: \"))\n",
    "obj = Addition(num1, num2)\n",
    "\n",
    "# perform Addition\n",
    "obj.calculate()\n",
    "\n",
    "# display result\n",
    "obj.display()\n"
   ]
  },
  {
   "cell_type": "markdown",
   "metadata": {},
   "source": [
    "### Creating a class and object with class and instance attributes"
   ]
  },
  {
   "cell_type": "code",
   "execution_count": 86,
   "metadata": {},
   "outputs": [
    {
     "name": "stdout",
     "output_type": "stream",
     "text": [
      "Oscar is a mammal\n",
      "Peaches is also a mammal\n",
      "My name is Oscar\n",
      "My name is Peaches\n"
     ]
    }
   ],
   "source": [
    "class Dog:\n",
    "\n",
    "  # class attribute\n",
    "    attr1 = \"mammal\"\n",
    "\n",
    "    # Instance attribute\n",
    "    def __init__(self, name):\n",
    "        self.name = name\n",
    "\n",
    "# Object instantiation\n",
    "dog1 = Dog(\"Oscar\")\n",
    "dog2 = Dog(\"Peaches\")\n",
    "\n",
    "# Accessing class attributes\n",
    "print(\"Oscar is a {}\".format(dog1.__class__.attr1))\n",
    "print(\"Peaches is also a {}\".format(dog2.__class__.attr1))\n",
    "\n",
    "# Accessing instance attributes\n",
    "print(\"My name is {}\".format(dog1.name))\n",
    "print(\"My name is {}\".format(dog2.name))"
   ]
  },
  {
   "cell_type": "markdown",
   "metadata": {},
   "source": [
    "### Creating Class and objects with methods"
   ]
  },
  {
   "cell_type": "code",
   "execution_count": 19,
   "metadata": {},
   "outputs": [
    {
     "name": "stdout",
     "output_type": "stream",
     "text": [
      "Enter the name of the first student: QWE\n",
      "My name is QWE\n",
      "I'm studying Computer Science\n",
      "My name is Enter the name of the second student: \n",
      "I'm studying Computer Science\n"
     ]
    }
   ],
   "source": [
    "class SST:\n",
    "\n",
    "    # class attribute\n",
    "    prog1 = \"Computer Science\"\n",
    "\n",
    "    # Instance attribute\n",
    "    def __init__(self, name):\n",
    "        self.name = name\n",
    "\n",
    "    def speak(self):\n",
    "        print(\"My name is {}\".format(self.name))\n",
    "        print(\"I'm studying {}\".format(stud1.__class__.prog1))\n",
    "\n",
    "# Object instantiation\n",
    "stud1 = SST(input(\"Enter the name of the first student: \"))\n",
    "stud2 = SST(\"Enter the name of the second student: \")\n",
    "\n",
    "# Accessing class methods\n",
    "stud1.speak()\n",
    "stud2.speak()\n"
   ]
  },
  {
   "cell_type": "markdown",
   "metadata": {},
   "source": [
    "### Class and Instance Variables\n",
    "<ul><li>Instance variables are for data unique to each instance and class variables are for attributes and methods shared by all instances of the class.</li><li> Instance variables are variables whose value is assigned inside a constructor or method with self, whereas class variables are variables whose value is assigned in the class.</li></ul>"
   ]
  },
  {
   "cell_type": "code",
   "execution_count": 79,
   "metadata": {},
   "outputs": [
    {
     "name": "stdout",
     "output_type": "stream",
     "text": [
      "Rodger details:\n",
      "Rodger is a dog\n",
      "Breed:  Pug\n",
      "Color:  brown\n",
      "\n",
      "Buzo details:\n",
      "Buzo is a dog\n",
      "Breed:  Bulldog\n",
      "Color:  black\n",
      "\n",
      "Accessing class variable using class name\n",
      "dog\n"
     ]
    }
   ],
   "source": [
    "# A Python program to show that the variables with a value\n",
    "# assigned in the class declaration, are class variables and\n",
    "# variables inside methods and constructors are instance\n",
    "# variables.\n",
    "\n",
    "# Class for Dog\n",
    "class Dog:\n",
    "\n",
    "    # Class Variable\n",
    "    animal = 'dog'\n",
    "\n",
    "    # The init method or constructor\n",
    "    def __init__(self, breed, color):\n",
    "    \n",
    "        # Instance Variable\n",
    "        self.breed = breed\n",
    "        self.color = color\n",
    "    \n",
    "# Objects of Dog class\n",
    "Rodger = Dog(\"Pug\", \"brown\")\n",
    "Buzo = Dog(\"Bulldog\", \"black\")\n",
    "\n",
    "print('Rodger details:')\n",
    "print('Rodger is a', Rodger.animal)\n",
    "print('Breed: ', Rodger.breed)\n",
    "print('Color: ', Rodger.color)\n",
    "\n",
    "print('\\nBuzo details:')\n",
    "print('Buzo is a', Buzo.animal)\n",
    "print('Breed: ', Buzo.breed)\n",
    "print('Color: ', Buzo.color)\n",
    "\n",
    "# Class variables can be accessed using class\n",
    "# name also\n",
    "print(\"\\nAccessing class variable using class name\")\n",
    "print(Dog.animal)"
   ]
  },
  {
   "cell_type": "markdown",
   "metadata": {},
   "source": [
    "### Defining instance variable using the normal method."
   ]
  },
  {
   "cell_type": "code",
   "execution_count": 89,
   "metadata": {},
   "outputs": [
    {
     "name": "stdout",
     "output_type": "stream",
     "text": [
      "brown\n"
     ]
    }
   ],
   "source": [
    "# Python program to show that we can create\n",
    "# instance variables inside methods\n",
    "\n",
    "# Class for Dog\n",
    "class Dog:\n",
    "\n",
    "    # Class Variable\n",
    "    animal = 'dog'\n",
    "\n",
    "    # The init method or constructor\n",
    "    def __init__(self, breed):\n",
    "\n",
    "        # Instance Variable\n",
    "        self.breed = breed\n",
    "\n",
    "    # Adds an instance variable\n",
    "    def setColor(self, color):\n",
    "        self.color = color\n",
    "\n",
    "    # Retrieves instance variable\n",
    "    def getColor(self):\n",
    "        return self.color\n",
    "\n",
    "# Object instantiation\n",
    "Rodger = Dog(\"dog\")\n",
    "Rodger.setColor(\"brown\")\n",
    "print(Rodger.getColor())\n"
   ]
  },
  {
   "cell_type": "markdown",
   "metadata": {},
   "source": [
    "## Class Project I"
   ]
  },
  {
   "cell_type": "markdown",
   "metadata": {},
   "source": [
    "One of the key issue that have threatened organizations and institutions is that of logistics. To solve it, employers now use biometric softwares and computer vision enabled tools to verify identities of their employees and take attendance. Mrs. Jane runs a delivery business with 15 employees, but she would want a way to identify if a user is one of her employees, take attendance and assign a task to the employee for the day. \n",
    "\n",
    "Employees = \"Mary Evans\", \"Eyo Ishan\", \"Durojaiye Dare\", \"Adams Ali\", \"Andrew Ugwu\", \"Stella Mankinde\", \"Jane Akibo\", \"Ago James\", \"Michell Taiwo\", \"Abraham Jones\" , \"Nicole Anide\", \"Kosi Korso\", \"Adele Martins\", \"Emmanuel Ojo\", \"Ajayi Fatima\".\n",
    "\n",
    "Tasks = \"Loading\", \"Transporting\", \"Reveiwing Orders\", \"Customer Service\", \"Delivering Items\"\n",
    "\n",
    "Your mission, should you choose to accept it, is to develop python program using your knowledge in OOP (class and objects) that takes a user's name and check if he/she exists in the list of employees, take attendance for the day and assign a task to the employess … otherwise, you politely refuse access to the system.\n",
    "\n",
    "<b>Hint:</b>\n",
    "\n",
    "<ol><li>Build a class <b>Employee()</b> that has four methods in the class; <b>check_employee()</b>, <b>take_attendance()</b>, <b>assign_task()</b> and <b>refuse_access()</b>.</li><li>\n",
    "    You can <b>import random</b> module and use the <b>random.randint()</b> method to randomly select task from the list. </li></ol>\n"
   ]
  },
  {
   "cell_type": "code",
   "execution_count": null,
   "metadata": {},
   "outputs": [],
   "source": [
    "# Import random\n",
    "import random\n",
    "# Declare a class\n",
    "\n",
    "class emplolyee():\n",
    "    def __init__(self, name):\n",
    "        self.name = name\n",
    "        \n",
    "    def check_employee():\n",
    "        "
   ]
  },
  {
   "cell_type": "code",
   "execution_count": 1,
   "metadata": {},
   "outputs": [
    {
     "ename": "NameError",
     "evalue": "name 'Employee' is not defined",
     "output_type": "error",
     "traceback": [
      "\u001b[1;31m---------------------------------------------------------------------------\u001b[0m",
      "\u001b[1;31mNameError\u001b[0m                                 Traceback (most recent call last)",
      "\u001b[1;32m<ipython-input-1-09c204f20bc4>\u001b[0m in \u001b[0;36m<module>\u001b[1;34m\u001b[0m\n\u001b[0;32m     38\u001b[0m             \u001b[0mprint\u001b[0m\u001b[1;33m(\u001b[0m\u001b[1;34m'WARNING!!!!'\u001b[0m\u001b[1;33m)\u001b[0m\u001b[1;33m\u001b[0m\u001b[1;33m\u001b[0m\u001b[0m\n\u001b[0;32m     39\u001b[0m \u001b[1;33m\u001b[0m\u001b[0m\n\u001b[1;32m---> 40\u001b[1;33m \u001b[0mja\u001b[0m \u001b[1;33m=\u001b[0m \u001b[0memployee\u001b[0m\u001b[1;33m(\u001b[0m\u001b[0mEmployee\u001b[0m\u001b[1;33m)\u001b[0m\u001b[1;33m\u001b[0m\u001b[1;33m\u001b[0m\u001b[0m\n\u001b[0m\u001b[0;32m     41\u001b[0m \u001b[0mfd\u001b[0m\u001b[1;33m.\u001b[0m\u001b[0mcheck_employee\u001b[0m\u001b[1;33m\u001b[0m\u001b[1;33m\u001b[0m\u001b[0m\n\u001b[0;32m     42\u001b[0m \u001b[1;33m\u001b[0m\u001b[0m\n",
      "\u001b[1;31mNameError\u001b[0m: name 'Employee' is not defined"
     ]
    }
   ],
   "source": [
    "# TRIAL \n",
    "# We will convert it into a csv file\n",
    "import pandas as pd\n",
    "\n",
    "\n",
    "records = {'Employees':['Mary Evans','Eyo Ishan','Durojaiye Dare','Adams Ali','Andrew Ugwu','Stella Mankinde','Jane Akibo','Ago James','Michell Taiwo','Abraham Jones','Nicole Anide','Kosi Korso','Adele Martins','Emmanuel Ojo','Ajayi Fatima'],\n",
    "           'Tasks':['Loading','Transporting','Reviewing Orders', 'Customer Service','Delivering Items','','','' ,'','','','','','','']}\n",
    "fd = pd.DataFrame(records)\n",
    "fd\n",
    "# COnverting it to a file\n",
    "fd.to_csv('employee.csv') \n",
    "# An idea came into my mind to create a csv file containing employees and task\n",
    "# With the concept of sets, csv is the universal set while methods would be the subset to get their info.\n",
    "class employee():\n",
    "    pass\n",
    "def __init__(self,file1):\n",
    "    self.file = file\n",
    "def check_employee(self):\n",
    "    Employee = input('Enter name:')\n",
    "    if p in self.file:\n",
    "        print('You are a  staff')\n",
    "    else:\n",
    "        print(NEGATIVE)\n",
    "def take_attendance(self):\n",
    "    for pick in self.file:\n",
    "        return p in self.file\n",
    "    print('Present')\n",
    "def assign_task(self):\n",
    "    Task = input('Enter tasks:')\n",
    "    if Task in self.file:\n",
    "        print(Task)\n",
    "    else:\n",
    "        print('There is no task for you')\n",
    "def refuse_access(self):\n",
    "    name = input('Enter name:')\n",
    "    if name in self.file:\n",
    "        print(\"Affirmitive\")\n",
    "    else:\n",
    "            print('WARNING!!!!')\n",
    "            \n",
    "ja = employee(Employee)\n",
    "fd.check_employee\n",
    "    \n",
    "    "
   ]
  },
  {
   "cell_type": "code",
   "execution_count": 2,
   "metadata": {},
   "outputs": [
    {
     "name": "stdout",
     "output_type": "stream",
     "text": [
      "YOU ARE WELCOME TO LOGISTICS PLC.\n",
      "\n",
      " Enter your name: mary\n",
      "EXCUSE ME. YOU CANNOT ACCESS THIS PLATFORM.\n",
      "ABORT!!! YOU ARE NOT QUALIFIED\n"
     ]
    }
   ],
   "source": [
    "import random\n",
    "\n",
    "class Employee:\n",
    "    \n",
    "    employees = [\"Mary Evans\", \"Eyo Ishan\", \"Durojaiye Dare\", \"Adams Ali\", \"Andrew Ugwu\", \"Stella Mankinde\", \"Jane Akibo\", \"Ago James\", \n",
    "                 \"Michell Taiwo\", \"Abraham Jones\" , \"Nicole Anide\", \"Kosi Korso\", \"Adele Martins\", \"Emmanuel Ojo\", \"Ajayi Fatima\"]\n",
    "    \n",
    "    tasks = [\"Loading\", \"Transporting\", \"Reviewing Orders\", \"Customer Service\", \"Delivering Items\"]\n",
    "    \n",
    "    def __init__(self, name):\n",
    "        self.name = name\n",
    "        \n",
    "    def check_employee(self):\n",
    "        if self.name in self.employees:\n",
    "            return True\n",
    "        else:\n",
    "            return False\n",
    "        \n",
    "    def take_attendance(self):\n",
    "        if self.check_employee():\n",
    "            print(f\"{self.name} is affirmitive.\")\n",
    "        else:\n",
    "            self.refuse_access()\n",
    "            \n",
    "    def assign_task(self):\n",
    "        if self.check_employee():\n",
    "            \n",
    " #With the use of random.choice() \n",
    "            task = random.choice(self.tasks)\n",
    "            print(f\"{self.name}, your assigned fu nction is {task}.\")\n",
    "        else:\n",
    "            print(\"ABORT!!! YOU ARE NOT QUALIFIED\")\n",
    "        \n",
    "    def refuse_access(self):\n",
    "        print(\"EXCUSE ME. YOU CANNOT ACCESS THIS PLATFORM.\")\n",
    "        \n",
    "\n",
    "# Below we will come upp with our welcome message\n",
    "print(\"YOU ARE WELCOME TO LOGISTICS PLC.\")\n",
    "print()\n",
    "name = input(\" Enter your name: \")\n",
    "employee = Employee(name)\n",
    "\n",
    "# take attendance for the employee\n",
    "employee.take_attendance()\n",
    "\n",
    "# assign task to the employee\n",
    "employee.assign_task()\n"
   ]
  },
  {
   "cell_type": "markdown",
   "metadata": {},
   "source": [
    "## Class Project II"
   ]
  },
  {
   "cell_type": "markdown",
   "metadata": {},
   "source": [
    "You run a delivery service, and charge people based on their location and weight of their package. The following are some of the things you consider.\n",
    "\n",
    "You charge N2000, whenever you are delivering a package with weight of 10kg and above to PAU, and N1500 when it is less.\n",
    "However, you charge N5000 whenever you deliver to Epe, a package with weight of 10kg and above, and N4000 when it is less.\n",
    "\n",
    "Develop the python program using your knowledge in OOP, that tells a user how much to pay, based on their location, and package weight. \n",
    "\n"
   ]
  },
  {
   "cell_type": "code",
   "execution_count": 3,
   "metadata": {},
   "outputs": [
    {
     "name": "stdout",
     "output_type": "stream",
     "text": [
      "GOOD DAY EVERYONE,YOU ARE WELCOME TO AMEH AND SONS DELIVERY SERVICE\n",
      "I DO CHARGE GOODS WITH THE WEIGHT OF 10KG AND ABOVE TO PAU WITH THE FEE OF N2000AND CHARGE N1500 FOR WHEN IT IS LESS \n",
      "WHENEVER I DELIVER A PACKAGE IN EPE I CHARGE N5000 FOR 10KG WIEGHTAND CHARGE N4000 WHEN THE WEIGHT IS LESS\n",
      "Enter locationepe\n"
     ]
    },
    {
     "ename": "NameError",
     "evalue": "name 'P' is not defined",
     "output_type": "error",
     "traceback": [
      "\u001b[1;31m---------------------------------------------------------------------------\u001b[0m",
      "\u001b[1;31mNameError\u001b[0m                                 Traceback (most recent call last)",
      "\u001b[1;32m<ipython-input-3-294869cbad26>\u001b[0m in \u001b[0;36m<module>\u001b[1;34m\u001b[0m\n\u001b[0;32m     24\u001b[0m          \u001b[0mP\u001b[0m \u001b[1;33m=\u001b[0m \u001b[0mint\u001b[0m\u001b[1;33m(\u001b[0m\u001b[0minput\u001b[0m\u001b[1;33m(\u001b[0m\u001b[1;34m'Enter weight'\u001b[0m\u001b[1;33m)\u001b[0m\u001b[1;33m)\u001b[0m\u001b[1;33m\u001b[0m\u001b[1;33m\u001b[0m\u001b[0m\n\u001b[0;32m     25\u001b[0m \u001b[0mQ\u001b[0m \u001b[1;33m=\u001b[0m \u001b[1;33m(\u001b[0m\u001b[0minput\u001b[0m\u001b[1;33m(\u001b[0m\u001b[1;34m'Enter location'\u001b[0m\u001b[1;33m)\u001b[0m\u001b[1;33m)\u001b[0m\u001b[1;33m\u001b[0m\u001b[1;33m\u001b[0m\u001b[0m\n\u001b[1;32m---> 26\u001b[1;33m \u001b[1;32mif\u001b[0m \u001b[0mP\u001b[0m \u001b[1;33m>=\u001b[0m \u001b[1;36m10\u001b[0m \u001b[1;32mand\u001b[0m \u001b[0mQ\u001b[0m \u001b[1;33m==\u001b[0m \u001b[0mPAU\u001b[0m\u001b[1;33m:\u001b[0m\u001b[1;33m\u001b[0m\u001b[1;33m\u001b[0m\u001b[0m\n\u001b[0m\u001b[0;32m     27\u001b[0m     \u001b[0mprint\u001b[0m\u001b[1;33m(\u001b[0m\u001b[1;34m'FEE COSTS N2000'\u001b[0m\u001b[1;33m)\u001b[0m\u001b[1;33m\u001b[0m\u001b[1;33m\u001b[0m\u001b[0m\n\u001b[0;32m     28\u001b[0m \u001b[1;32melif\u001b[0m \u001b[0mP\u001b[0m \u001b[1;33m>=\u001b[0m\u001b[1;36m10\u001b[0m \u001b[1;32mand\u001b[0m \u001b[0mQ\u001b[0m \u001b[1;33m==\u001b[0m \u001b[0mEpe\u001b[0m\u001b[1;33m:\u001b[0m\u001b[1;33m\u001b[0m\u001b[1;33m\u001b[0m\u001b[0m\n",
      "\u001b[1;31mNameError\u001b[0m: name 'P' is not defined"
     ]
    }
   ],
   "source": [
    "AAA = 'GOOD DAY EVERYONE,'\n",
    "BBB = 'YOU ARE WELCOME TO AMEH AND SONS DELIVERY SERVICE'\n",
    "CCC = AAA + '' + BBB\n",
    "print(CCC)\n",
    "\n",
    "DDD = 'I DO CHARGE GOODS WITH THE WEIGHT OF 10KG AND ABOVE TO PAU WITH THE FEE OF N2000'\n",
    "EEE = 'AND CHARGE N1500 FOR WHEN IT IS LESS '\n",
    "FFF = DDD + '' + EEE\n",
    "print(FFF)\n",
    "\n",
    "GGG = 'WHENEVER I DELIVER A PACKAGE IN EPE I CHARGE N5000 FOR 10KG WIEGHT'\n",
    "HHH = 'AND CHARGE N4000 WHEN THE WEIGHT IS LESS'\n",
    "III = GGG + '' + HHH\n",
    "print(III)\n",
    "\n",
    "# Declare a class\n",
    "class ameh_delivery_service():\n",
    "    pass\n",
    "    def __init__(self,location,weight,price):\n",
    "        self.location = location\n",
    "        self.weight = weight\n",
    "        self.price = price\n",
    "    def package(self):\n",
    "         P = int(input('Enter weight'))\n",
    "Q = (input('Enter location'))\n",
    "if P >= 10 and Q == PAU:\n",
    "    print('FEE COSTS N2000')\n",
    "elif P >=10 and Q == Epe:\n",
    "    print('FEE IS N5000')"
   ]
  },
  {
   "cell_type": "code",
   "execution_count": 6,
   "metadata": {},
   "outputs": [
    {
     "name": "stdout",
     "output_type": "stream",
     "text": [
      "T.D.E LOGISTIC VENTURES\n",
      "\n",
      "ENTER LOCATION(delivery location): EPE\n",
      "ENTER PACKAGE (package weight) (in kg): 16\n",
      "Invalid location or weight\n"
     ]
    }
   ],
   "source": [
    "class Delivery_Service:\n",
    "    def __init__(self, location, weight):\n",
    "        self.location = location\n",
    "        self.weight = weight\n",
    "    \n",
    "    def calculate_fee(self):\n",
    "        if self.weight >= 10:\n",
    "            if self.location == 'PAU':\n",
    "                return 2000\n",
    "            elif self.location == 'Epe':\n",
    "                return 5000\n",
    "            else:\n",
    "                return None\n",
    "        else:\n",
    "            if self.location == 'PAU':\n",
    "                return 1500\n",
    "            elif self.location == 'Epe':\n",
    "                return 4000\n",
    "            else:\n",
    "                return None\n",
    "            \n",
    "msg = \"T.D.E LOGISTIC VENTURES\"\n",
    "print(msg)\n",
    "print()\n",
    "location = input('ENTER LOCATION(delivery location): ')\n",
    "weight = int(input('ENTER PACKAGE (package weight) (in kg): '))\n",
    "\n",
    "service = Delivery_Service(location, weight)\n",
    "fee = service.calculate_fee()\n",
    "\n",
    "if fee is None:\n",
    "    print('Invalid location or weight')\n",
    "else:\n",
    "    print(\"Delivery Location: {}\" .format(location))\n",
    "    print(f\"Weight of Package: {weight}Kg\")\n",
    "    print('Delivery fee: ₦{}'.format(fee))\n",
    "\n"
   ]
  },
  {
   "cell_type": "code",
   "execution_count": null,
   "metadata": {},
   "outputs": [],
   "source": [
    " "
   ]
  }
 ],
 "metadata": {
  "kernelspec": {
   "display_name": "Python 3",
   "language": "python",
   "name": "python3"
  },
  "language_info": {
   "codemirror_mode": {
    "name": "ipython",
    "version": 3
   },
   "file_extension": ".py",
   "mimetype": "text/x-python",
   "name": "python",
   "nbconvert_exporter": "python",
   "pygments_lexer": "ipython3",
   "version": "3.8.3"
  }
 },
 "nbformat": 4,
 "nbformat_minor": 4
}
