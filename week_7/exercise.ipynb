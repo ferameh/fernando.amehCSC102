{
 "cells": [
  {
   "cell_type": "code",
   "execution_count": 3,
   "id": "b892ad40",
   "metadata": {},
   "outputs": [
    {
     "name": "stdout",
     "output_type": "stream",
     "text": [
      "I am the first call to user definrd function\n",
      "Again second call to the same function\n"
     ]
    }
   ],
   "source": [
    "def printme(str):\n",
    "   #This is a print function \n",
    "    print(str)\n",
    "    return;\n",
    "printme('I am the first call to user definrd function');\n",
    "printme('Again second call to the same function');"
   ]
  },
  {
   "cell_type": "code",
   "execution_count": 10,
   "id": "6b026f3c",
   "metadata": {
    "scrolled": true
   },
   "outputs": [
    {
     "name": "stdout",
     "output_type": "stream",
     "text": [
      "Values inside the function: [10, 20, [1, 2, 3]]\n",
      "[10, 20, [1, 2, 3]]\n",
      "Values outside the functon: [10, 20, [1, 2, 3]]\n"
     ]
    }
   ],
   "source": [
    "def changeme(mylist):\n",
    "    # This changes a passed list\n",
    "    mylist.append([1,2,3])\n",
    "    print('Values inside the function:', mylist)\n",
    "    return \n",
    "mylist = [10,20]\n",
    "changeme( mylist)\n",
    "print(mylist)\n",
    "print('Values outside the functon:', mylist)"
   ]
  },
  {
   "cell_type": "code",
   "execution_count": 1,
   "id": "5f1840d5",
   "metadata": {},
   "outputs": [
    {
     "name": "stdout",
     "output_type": "stream",
     "text": [
      "<class 'str'>\n"
     ]
    }
   ],
   "source": [
    "# Required arguements\n",
    "def printme(str):\n",
    "    #This prints a passed string\n",
    "    print(str);\n",
    "    return;\n",
    "printme(str);\n"
   ]
  },
  {
   "cell_type": "code",
   "execution_count": 14,
   "id": "3f27a401",
   "metadata": {},
   "outputs": [
    {
     "name": "stdout",
     "output_type": "stream",
     "text": [
      "My string\n"
     ]
    }
   ],
   "source": [
    "#Keyword arguement\n",
    "def printme(str):\n",
    "    #This prints a passed string \n",
    "    print (str);\n",
    "    return;\n",
    "printme(str = 'My string')"
   ]
  },
  {
   "cell_type": "code",
   "execution_count": 19,
   "id": "6f37a7a3",
   "metadata": {},
   "outputs": [
    {
     "name": "stdout",
     "output_type": "stream",
     "text": [
      "Name: Fernando\n",
      "Age: 82\n"
     ]
    }
   ],
   "source": [
    "#Keyword arguement\n",
    "def printinfo(name, age):\n",
    "    #Test function\n",
    "    print('Name:', name);\n",
    "    print('Age:', age);\n",
    "    return;\n",
    "printinfo( age=82, name='Fernando')"
   ]
  },
  {
   "cell_type": "code",
   "execution_count": 20,
   "id": "612a4ece",
   "metadata": {},
   "outputs": [
    {
     "name": "stdout",
     "output_type": "stream",
     "text": [
      "Name: Jagaban\n",
      "Age: 50\n",
      "Name: Peter\n",
      "Age: 35\n"
     ]
    }
   ],
   "source": [
    "# Default arguements\n",
    "def printinfo(name, age = 35):\n",
    "    # Test function\n",
    "    print ('Name:', name);\n",
    "    print ('Age:', age)\n",
    "    return;\n",
    "printinfo( age=50, name='Jagaban');\n",
    "printinfo( name='Peter')"
   ]
  },
  {
   "cell_type": "code",
   "execution_count": 25,
   "id": "6c946eff",
   "metadata": {},
   "outputs": [
    {
     "name": "stdout",
     "output_type": "stream",
     "text": [
      "Output is:\n",
      "10\n",
      "Output is:\n",
      "70\n",
      "30\n"
     ]
    }
   ],
   "source": [
    "# Variable arguements\n",
    "def printinfo( arg1, *vartuple):\n",
    "#This is test\n",
    "    print('Output is:')\n",
    "    print(arg1)\n",
    "    for var in vartuple:\n",
    "        print (var)\n",
    "        return;\n",
    "printinfo(10);\n",
    "printinfo(70, 30, 45,3445);"
   ]
  },
  {
   "cell_type": "code",
   "execution_count": 2,
   "id": "57a709da",
   "metadata": {},
   "outputs": [
    {
     "name": "stdout",
     "output_type": "stream",
     "text": [
      "Inside the function local total: 30\n",
      "Outside the function global total: 50\n"
     ]
    }
   ],
   "source": [
    "# This is a global variable.\n",
    "total=50;\n",
    "def sum(arg1, arg2):\n",
    "    # Add both the parameters\n",
    "    total = arg1 + arg2;\n",
    "    print ('Inside the function local total:', total)\n",
    "    return total;\n",
    "# NOW YOU CAN CALL THE SUM FUNCTION\n",
    "sum(10,20);\n",
    "print(\"Outside the function global total:\", total)\n"
   ]
  },
  {
   "cell_type": "code",
   "execution_count": 33,
   "id": "9c83b5d9",
   "metadata": {},
   "outputs": [
    {
     "name": "stdout",
     "output_type": "stream",
     "text": [
      "Lawal Edward Tolu Tina\n",
      "Mary\n"
     ]
    }
   ],
   "source": [
    "def swap(x,y):\n",
    "    global a\n",
    "    a = 'Lawal'\n",
    "    x,y = y,x\n",
    "    b = 'Chris'\n",
    "    b = 'Edward'\n",
    "    c = 'Lola'\n",
    "    print(a,b,x,y)\n",
    "    a = 'Mary'\n",
    "swap('Tina', 'Tolu')\n",
    "print(a)"
   ]
  },
  {
   "cell_type": "code",
   "execution_count": null,
   "id": "eacd8754",
   "metadata": {},
   "outputs": [],
   "source": [
    "#  PROJECT 1\n",
    " "
   ]
  }
 ],
 "metadata": {
  "kernelspec": {
   "display_name": "Python 3 (ipykernel)",
   "language": "python",
   "name": "python3"
  },
  "language_info": {
   "codemirror_mode": {
    "name": "ipython",
    "version": 3
   },
   "file_extension": ".py",
   "mimetype": "text/x-python",
   "name": "python",
   "nbconvert_exporter": "python",
   "pygments_lexer": "ipython3",
   "version": "3.10.9"
  }
 },
 "nbformat": 4,
 "nbformat_minor": 5
}
