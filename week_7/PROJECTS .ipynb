{
 "cells": [
  {
   "cell_type": "code",
   "execution_count": 2,
   "metadata": {},
   "outputs": [
    {
     "name": "stdout",
     "output_type": "stream",
     "text": [
      "Welcome to JT Ventures\n",
      "My task is to identify if a user is a member of Jt Ventures\n",
      "This is a delivery business that has about 40 employees.\n",
      "My name is Fernando. And I have been employeed to work for JT Ventures\n",
      "\n"
     ]
    },
    {
     "ename": "NameError",
     "evalue": "name 'name' is not defined",
     "output_type": "error",
     "traceback": [
      "\u001b[1;31m---------------------------------------------------------------------------\u001b[0m",
      "\u001b[1;31mNameError\u001b[0m                                 Traceback (most recent call last)",
      "\u001b[1;32m<ipython-input-2-f61d6a8e4fca>\u001b[0m in \u001b[0;36m<module>\u001b[1;34m\u001b[0m\n\u001b[0;32m     18\u001b[0m \u001b[0memployee\u001b[0m \u001b[1;33m=\u001b[0m \u001b[1;33m(\u001b[0m\u001b[1;34m'jt-ventures.csv'\u001b[0m\u001b[1;33m)\u001b[0m\u001b[1;33m\u001b[0m\u001b[1;33m\u001b[0m\u001b[0m\n\u001b[0;32m     19\u001b[0m \u001b[1;32mfor\u001b[0m \u001b[0mworker\u001b[0m \u001b[1;32min\u001b[0m \u001b[0memployee\u001b[0m\u001b[1;33m:\u001b[0m\u001b[1;33m\u001b[0m\u001b[1;33m\u001b[0m\u001b[0m\n\u001b[1;32m---> 20\u001b[1;33m     \u001b[1;32mif\u001b[0m \u001b[0mname\u001b[0m \u001b[1;33m==\u001b[0m \u001b[1;34m'employee'\u001b[0m\u001b[1;33m:\u001b[0m\u001b[1;33m\u001b[0m\u001b[1;33m\u001b[0m\u001b[0m\n\u001b[0m\u001b[0;32m     21\u001b[0m         \u001b[0mprint\u001b[0m\u001b[1;33m(\u001b[0m\u001b[1;34m'He is a member of JT- Ventures'\u001b[0m\u001b[1;33m)\u001b[0m\u001b[1;33m\u001b[0m\u001b[1;33m\u001b[0m\u001b[0m\n\u001b[0;32m     22\u001b[0m     \u001b[1;32melse\u001b[0m\u001b[1;33m:\u001b[0m\u001b[1;33m\u001b[0m\u001b[1;33m\u001b[0m\u001b[0m\n",
      "\u001b[1;31mNameError\u001b[0m: name 'name' is not defined"
     ]
    }
   ],
   "source": [
    "# PROJECT 1\n",
    "print('Welcome to JT Ventures')\n",
    "print('My task is to identify if a user is a member of Jt Ventures')\n",
    "\n",
    "# Declare a function\n",
    "def who():\n",
    "    print(\"This is a delivery business that has about 40 employees.\")\n",
    "    print(\"My name is Fernando. And I have been employeed to work for JT Ventures\")\n",
    "    print()\n",
    "\n",
    "who()\n",
    "\n",
    "# We are going to calll another function. AND name it 'FILE'\n",
    "\n",
    "def file():\n",
    " name = input('Enter your name:')\n",
    "\n",
    "employee = ('jt-ventures.csv')\n",
    "for worker in employee:\n",
    "    if name == 'employee':\n",
    "        print('He is a member of JT- Ventures')\n",
    "    else:\n",
    "        print('You are not a staff of JT Ventures')\n",
    "    "
   ]
  },
  {
   "cell_type": "code",
   "execution_count": 1,
   "metadata": {},
   "outputs": [
    {
     "ename": "SyntaxError",
     "evalue": "invalid syntax (<ipython-input-1-16346ad8950a>, line 2)",
     "output_type": "error",
     "traceback": [
      "\u001b[1;36m  File \u001b[1;32m\"<ipython-input-1-16346ad8950a>\"\u001b[1;36m, line \u001b[1;32m2\u001b[0m\n\u001b[1;33m    def employee()\u001b[0m\n\u001b[1;37m                  ^\u001b[0m\n\u001b[1;31mSyntaxError\u001b[0m\u001b[1;31m:\u001b[0m invalid syntax\n"
     ]
    }
   ],
   "source": [
    "file = jtventures.csv\n",
    "def employee()\n",
    "    with open('jtventures.csv', 'r') as file\n",
    "    name = input('Enter name')\n",
    "    department = input('Enter department')\n",
    "if name in file:\n",
    "    print(\"WELCOME TO JT-VENTURES\")\n",
    "    return\n",
    "else:\n",
    "    print('INVALID)\n",
    "def\n",
    "\n",
    "    "
   ]
  },
  {
   "cell_type": "code",
   "execution_count": null,
   "metadata": {},
   "outputs": [],
   "source": [
    "import csv\n",
    "def who():\n",
    "    name = input('Enter your name:')\n",
    "    department = input('Enter your department:')\n",
    "    file = (jtventures.csv)\n",
    "if name in file:\n",
    "    print('He is a staff of JT- Ventures')\n",
    "else:\n",
    "    print('He is not a member of JT-Ventures')"
   ]
  },
  {
   "cell_type": "markdown",
   "metadata": {},
   "source": []
  },
  {
   "cell_type": "code",
   "execution_count": 2,
   "metadata": {},
   "outputs": [
    {
     "name": "stdout",
     "output_type": "stream",
     "text": [
      "Peter\n"
     ]
    }
   ],
   "source": [
    "def hello(name):\n",
    "    print(name)\n",
    "    \n",
    "    \n",
    "hello('Peter')"
   ]
  },
  {
   "cell_type": "code",
   "execution_count": null,
   "metadata": {},
   "outputs": [
    {
     "name": "stdout",
     "output_type": "stream",
     "text": [
      "helloBeau\n"
     ]
    }
   ],
   "source": [
    "def hello(name):\n",
    "    print('hello'+ name)\n",
    "hello('Beau')"
   ]
  },
  {
   "cell_type": "code",
   "execution_count": null,
   "metadata": {},
   "outputs": [],
   "source": []
  }
 ],
 "metadata": {
  "kernelspec": {
   "display_name": "Python 3",
   "language": "python",
   "name": "python3"
  },
  "language_info": {
   "codemirror_mode": {
    "name": "ipython",
    "version": 3
   },
   "file_extension": ".py",
   "mimetype": "text/x-python",
   "name": "python",
   "nbconvert_exporter": "python",
   "pygments_lexer": "ipython3",
   "version": "3.8.3"
  }
 },
 "nbformat": 4,
 "nbformat_minor": 5
}
