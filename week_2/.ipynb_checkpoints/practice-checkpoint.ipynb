{
 "cells": [
  {
   "cell_type": "code",
   "execution_count": null,
   "id": "33ce3003",
   "metadata": {},
   "outputs": [],
   "source": [
    " str = input(\"Enter your state of origin:\")\n",
    "print (\"Your state of origin is: \", str)\n",
    "print (\"The first character is: \", str[0])\n",
    "print (\"The characters starting from 3rd to 5th are: \", str[2:5])\n",
    "print (\"The strings starting from 3rd character is: \", str[2:])\n",
    "print (\"State of origin two times\", str * 2)"
   ]
  },
  {
   "cell_type": "code",
   "execution_count": null,
   "id": "3c00feee",
   "metadata": {},
   "outputs": [],
   "source": [
    "# Input from user\n",
    "m = float(input(\"Enter mass in kilograms: \"))\n",
    "\n",
    "# Constant value for the speed of light in m/s\n",
    "c = 2996792458\n",
    "\n",
    "# Calculating the energy using Einstein's equation\n",
    "energy = m * c **2\n",
    "\n",
    "# Displaying the result\n",
    "print(f\"The energy equivalent to {m} kg of mass is {energy} joules.\")"
   ]
  },
  {
   "cell_type": "code",
   "execution_count": null,
   "id": "42d91135",
   "metadata": {},
   "outputs": [],
   "source": [
    "list = ['Anaconda', 786, 2.23, 'Jupyter', 70.2]\n",
    "shortlist = [321, 'Python']\n",
    "\n",
    "\n",
    "print(list)   #Prints complete list\n",
    "print(list[0]) #Prints the first element of the list '''\n",
    "print(list[1:3]) # Print the element starting from 2nd till 3rd\n",
    "print(list[2:]) # Print elements starring from 3rd element '''\n",
    "\n",
    "print(shortlist * 2) # Prints list two times\n",
    "print(list + shortlist) # Print conconcatenated lists\n"
   ]
  },
  {
   "cell_type": "code",
   "execution_count": null,
   "id": "6a7a82b0",
   "metadata": {},
   "outputs": [],
   "source": [
    "tuple  = (\"Ekiti\", 750, 'Oshogbo', 250, \"Akure\", 500)\n",
    "s_tuple = (\"Abeokuts\", 300, \"Ogbomoso\")\n",
    "\n",
    "#Prints the complete tuple\n",
    "print(tuple)\n",
    "\n",
    "# Prints last element of the tuple\n",
    "print (tuple[-1])\n",
    "\n",
    "#prints elements of the tuple starting from 2nd till 3rd\n",
    "print(tuple[2:4])\n",
    " \n",
    "#Prints elements of the tuple starting from 3rd element\n",
    "print(tuple[3:])\n",
    "\n",
    "#print the contents of the tuple twice\n",
    "print (s_tuple * 3)\n",
    "\n",
    "# prints concatenated tuples\n",
    "print (tuple + s_tuple)\n"
   ]
  },
  {
   "cell_type": "code",
   "execution_count": 1,
   "id": "472af99c",
   "metadata": {},
   "outputs": [
    {
     "name": "stdout",
     "output_type": "stream",
     "text": [
      "False\n",
      "False\n",
      "False\n",
      "True\n"
     ]
    }
   ],
   "source": [
    "# Returns false as game_1 is not equal to game_2\n",
    "game_1 = 2\n",
    "game_2 = 4\n",
    "\n",
    "print(bool(game_1== game_2))\n",
    "#Or\n",
    "print(game_1 == game_2)\n",
    "\n",
    "# Returns false as val is None\n",
    "val = None\n",
    "\n",
    "# Returns false as num is an empty sequence\n",
    "num = ()\n",
    "print(bool(num))\n",
    "\n",
    "# Returns true as age is boolean\n",
    "age = True\n",
    "print(bool(age))"
   ]
  },
  {
   "cell_type": "code",
   "execution_count": 3,
   "id": "6cdcd481",
   "metadata": {},
   "outputs": [
    {
     "name": "stdout",
     "output_type": "stream",
     "text": [
      "Grade = 70\n",
      "GPA = 4\n",
      "CGPA) = 4\n"
     ]
    }
   ],
   "source": [
    "# Convert to int\n",
    "\n",
    "grade = int(70)  # grade will be 70\n",
    "gpa = int(4.9)   # gpa will be 4.9\n",
    "cgpa = int(\"4\") # cgpa will be 4\n",
    "\n",
    "print(f\"Grade = {grade}\")\n",
    "print(f\"GPA = {gpa}\")\n",
    "print(f\"CGPA) = {cgpa}\")"
   ]
  },
  {
   "cell_type": "code",
   "execution_count": 5,
   "id": "b97f2f89",
   "metadata": {},
   "outputs": [
    {
     "name": "stdout",
     "output_type": "stream",
     "text": [
      "Grade = 97.0\n",
      "GPA = 5.0\n",
      "CGPA = 4.7\n"
     ]
    }
   ],
   "source": [
    "# Convert to float \n",
    "grade = float(97)\n",
    "gpa = float(5)\n",
    "cgpa = float(\"4.7\")\n",
    "\n",
    "print(f\"Grade = {grade}\")\n",
    "print(f\"GPA = {gpa}\")\n",
    "print(f\"CGPA = {cgpa}\")"
   ]
  },
  {
   "cell_type": "code",
   "execution_count": null,
   "id": "0c2a5074",
   "metadata": {},
   "outputs": [],
   "source": []
  }
 ],
 "metadata": {
  "kernelspec": {
   "display_name": "Python 3 (ipykernel)",
   "language": "python",
   "name": "python3"
  },
  "language_info": {
   "codemirror_mode": {
    "name": "ipython",
    "version": 3
   },
   "file_extension": ".py",
   "mimetype": "text/x-python",
   "name": "python",
   "nbconvert_exporter": "python",
   "pygments_lexer": "ipython3",
   "version": "3.10.9"
  }
 },
 "nbformat": 4,
 "nbformat_minor": 5
}
