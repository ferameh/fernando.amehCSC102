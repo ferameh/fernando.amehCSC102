{
 "cells": [
  {
   "cell_type": "code",
   "execution_count": 5,
   "id": "24a07ae6",
   "metadata": {},
   "outputs": [
    {
     "name": "stdout",
     "output_type": "stream",
     "text": [
      "Your state of Origin is:Benue\n",
      "e\n"
     ]
    }
   ],
   "source": [
    "#Pytho string data type\n",
    "str = input(\"Your state of Origin is:\")\n",
    "\n",
    "\n",
    "print(str[1:2])"
   ]
  },
  {
   "cell_type": "code",
   "execution_count": 8,
   "id": "79e6c592",
   "metadata": {},
   "outputs": [
    {
     "name": "stdout",
     "output_type": "stream",
     "text": [
      "Enter mass :234\n",
      "234.0*3\n"
     ]
    }
   ],
   "source": [
    "name = float(input(\"Enter mass :\"))\n",
    "print(f'{name}')"
   ]
  },
  {
   "cell_type": "code",
   "execution_count": 11,
   "id": "757b5296",
   "metadata": {},
   "outputs": [
    {
     "name": "stdout",
     "output_type": "stream",
     "text": [
      "23\n"
     ]
    }
   ],
   "source": [
    "#tuple\n",
    "tuple = (\"Edo\", 23)\n",
    "s_tuple = ('Ado',300)\n",
    "print (tuple[-1])"
   ]
  },
  {
   "cell_type": "code",
   "execution_count": 23,
   "id": "9c6976d3",
   "metadata": {},
   "outputs": [
    {
     "name": "stdout",
     "output_type": "stream",
     "text": [
      "15\n",
      "30\n",
      "45\n",
      "60\n",
      "75\n"
     ]
    }
   ],
   "source": [
    "for num in range(6):\n",
    "    if num > 0:\n",
    "        print(num * 15)"
   ]
  },
  {
   "cell_type": "code",
   "execution_count": null,
   "id": "d9b0a929",
   "metadata": {},
   "outputs": [],
   "source": []
  }
 ],
 "metadata": {
  "kernelspec": {
   "display_name": "Python 3 (ipykernel)",
   "language": "python",
   "name": "python3"
  },
  "language_info": {
   "codemirror_mode": {
    "name": "ipython",
    "version": 3
   },
   "file_extension": ".py",
   "mimetype": "text/x-python",
   "name": "python",
   "nbconvert_exporter": "python",
   "pygments_lexer": "ipython3",
   "version": "3.10.9"
  }
 },
 "nbformat": 4,
 "nbformat_minor": 5
}
