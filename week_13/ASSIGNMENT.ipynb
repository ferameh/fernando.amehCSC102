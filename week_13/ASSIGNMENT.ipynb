{
 "cells": [
  {
   "cell_type": "code",
   "execution_count": 9,
   "id": "878d4e56",
   "metadata": {},
   "outputs": [
    {
     "name": "stdout",
     "output_type": "stream",
     "text": [
      "This is an easy task.\n",
      "Welcome to PAUSIMS\n"
     ]
    }
   ],
   "source": [
    "print('This is an easy task.')\n",
    "AAA = 'Welcome to PAU'\n",
    "BBB = 'SIMS'\n",
    "CCC =  AAA + '' + BBB\n",
    "print(CCC)\n",
    "# First thing to do is to import my pandas\n",
    "import pandas as pd\n",
    "RECORD = {'Student Name':['Oluchi Mordi','Adams Aliyu','Shania Bolade','Adekunle Gold','Blanca Edemoh'],\n",
    "         'Matric.Number':['ACC1O211111','ECO10110101','CSC10328828','EEE11020202','MEE10202001'],\n",
    "         'Department':['Accounting','Economics','Computer','Electrical','Mechanical'],\n",
    "         'Level':['300','100','200','200','100']}\n",
    "rd = pd.DataFrame(RECORD)\n",
    "rd\n",
    "\n",
    "rd.to_csv('pau.sims_csv')"
   ]
  },
  {
   "cell_type": "code",
   "execution_count": 13,
   "id": "b7270d0f",
   "metadata": {},
   "outputs": [
    {
     "name": "stdout",
     "output_type": "stream",
     "text": [
      "BELOW CONSISTS OF THE FOLLOWING COMPANIES:\n",
      "1. Enron Coporation\n",
      "2. Anderson Coporation\n",
      "3. GK Jones\n",
      "4. Mica Industry\n",
      "5. Dune Industry\n"
     ]
    }
   ],
   "source": [
    "# NUMBER 2 \n",
    "# I was employed to insert the year each company given in the excel file given to me.\n",
    "print('BELOW CONSISTS OF THE FOLLOWING COMPANIES:')\n",
    "print('1. Enron Coporation')\n",
    "print('2. Anderson Coporation')\n",
    "print('3. GK Jones')\n",
    "print('4. Mica Industry')\n",
    "print('5. Dune Industry')\n",
    "\n",
    "import pandas as pd \n",
    "INFO = {'COMPANY':['Enron Coporation','Anderson Coporation','GK Jones','Mica Industry',' Dune Industry'],\n",
    "       'COMPANY SHARE':['1000000','1500000','3000000','250000','800000'],\n",
    "       'COMPANY LIABILITY': ['200000','500000','1500000','50000','300000']}\n",
    "gr = pd.DataFrame(INFO)\n",
    "gr\n",
    "\n",
    "gr.to_csv('global.economy_csv')"
   ]
  },
  {
   "cell_type": "code",
   "execution_count": null,
   "id": "c3fec7e4",
   "metadata": {},
   "outputs": [],
   "source": []
  }
 ],
 "metadata": {
  "kernelspec": {
   "display_name": "Python 3 (ipykernel)",
   "language": "python",
   "name": "python3"
  },
  "language_info": {
   "codemirror_mode": {
    "name": "ipython",
    "version": 3
   },
   "file_extension": ".py",
   "mimetype": "text/x-python",
   "name": "python",
   "nbconvert_exporter": "python",
   "pygments_lexer": "ipython3",
   "version": "3.10.9"
  }
 },
 "nbformat": 4,
 "nbformat_minor": 5
}
