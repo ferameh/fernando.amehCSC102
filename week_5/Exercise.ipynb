{
 "cells": [
  {
   "cell_type": "code",
   "execution_count": 1,
   "id": "fe3b9241",
   "metadata": {},
   "outputs": [
    {
     "name": "stdout",
     "output_type": "stream",
     "text": [
      "Enter the name of City 1:Benue\n",
      "Enter name of City 2:Edo\n",
      "The name of City 1 after swapping is Edo\n",
      "The name of City 2 after swapping is Benue\n"
     ]
    }
   ],
   "source": [
    "# Python program to swap two cities.\n",
    "\n",
    "# To take inputs from the user \n",
    "city_1 = input(\"Enter the name of City 1:\")\n",
    "city_2 = input(\"Enter name of City 2:\")\n",
    "\n",
    "# create a temporary variable and swap the cities\n",
    "temp = city_1\n",
    "city_1 = city_2\n",
    "city_2 = temp\n",
    "\n",
    "print(f\"The name of City 1 after swapping is {city_1}\")\n",
    "print(f\"The name of City 2 after swapping is {city_2}\")"
   ]
  },
  {
   "cell_type": "code",
   "execution_count": 4,
   "id": "2c1fd72d",
   "metadata": {},
   "outputs": [
    {
     "name": "stdout",
     "output_type": "stream",
     "text": [
      "Enter a number:-2344\n",
      "Negative number\n"
     ]
    }
   ],
   "source": [
    "# Program to check if a number is positive, negative or 0\n",
    "num = float(input(\"Enter a number:\"))\n",
    "if num > 0:\n",
    "    print(\"positive number\")\n",
    "elif num == 0:\n",
    "    print(\"Zero\")\n",
    "else:\n",
    "    print(\"Negative number\")\n",
    "    "
   ]
  },
  {
   "cell_type": "code",
   "execution_count": 2,
   "id": "4c97d9b6",
   "metadata": {},
   "outputs": [
    {
     "name": "stdout",
     "output_type": "stream",
     "text": [
      "Welcome to the coupe de Escriva 2023: football picks \n",
      "\n",
      "Madiba: Chubby Obiora-Okafo\n",
      "\n",
      "\n",
      "Blue-Jays: Christopher Uweh\n",
      "\n",
      "\n",
      "Cirok: Alexander\n",
      "\n",
      "\n",
      "TSG Walkers: Ikechukwu\n",
      "\n",
      "\n",
      "Madiba: Chubby Obiora-Okafo\n",
      "Blue-Jays: Oladimeji Abaniwonda/Jeffrey Awagu\n",
      "Cirok: Timileyin Pearse/Izuako Jeremy\n",
      "TSG Walkers: Ayomide Ojituku\n"
     ]
    }
   ],
   "source": [
    "# Coupe de Escriva 2023: football picks\n",
    "\n",
    "print('Welcome to the coupe de Escriva 2023: football picks \\n')\n",
    "\n",
    "captain = {'Madiba:': 'Chubby Obiora-Okafo','Blue-Jays:': 'Christopher Uweh', 'Cirok:': 'Alexander', 'TSG Walkers:':'Ikechukwu'}\n",
    "goalkeepers = {'Madiba:': 'Chubby Obiora-Okafo', 'Blue-Jays:': 'Oladimeji Abaniwonda/Jeffrey Awagu', 'Cirok:': 'Timileyin Pearse/Izuako Jeremy', 'TSG Walkers:': 'Ayomide Ojituku'}\n",
    "\n",
    "for pick in captain:\n",
    "    print(pi, captain[pick])\n",
    "    \n",
    "    print('\\n')\n",
    "    \n",
    "for pick in goalkeepers:\n",
    "    print(pick, goalkeepers[pick])"
   ]
  },
  {
   "cell_type": "code",
   "execution_count": null,
   "id": "f409bd84",
   "metadata": {},
   "outputs": [],
   "source": [
    "   "
   ]
  }
 ],
 "metadata": {
  "kernelspec": {
   "display_name": "Python 3 (ipykernel)",
   "language": "python",
   "name": "python3"
  },
  "language_info": {
   "codemirror_mode": {
    "name": "ipython",
    "version": 3
   },
   "file_extension": ".py",
   "mimetype": "text/x-python",
   "name": "python",
   "nbconvert_exporter": "python",
   "pygments_lexer": "ipython3",
   "version": "3.10.9"
  }
 },
 "nbformat": 4,
 "nbformat_minor": 5
}
