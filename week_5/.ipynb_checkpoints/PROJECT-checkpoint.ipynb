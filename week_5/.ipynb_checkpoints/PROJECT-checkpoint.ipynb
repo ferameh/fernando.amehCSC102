{
 "cells": [
  {
   "cell_type": "code",
   "execution_count": 1,
   "id": "04f89019",
   "metadata": {},
   "outputs": [
    {
     "name": "stdout",
     "output_type": "stream",
     "text": [
      "I have been employed to work for School of Science and Technology.\n",
      "So my job is to provide and provide a code for in a tabular form that shows: Name, Age, Height, Scores.\n",
      "\n",
      "So welcome again to my tutorial.Last week project was quite amazing.\n",
      "Let us begin to code.\n",
      "Below is the data table  girls\n",
      "NAME         AGE    HEIGHT    SCORE\n",
      "---------  -----  --------  -------\n",
      "Samantha      17       5.5       80\n",
      "Jada          16       6         85\n",
      "Jare          17       5.4       70\n",
      "Claire        18       5.9       60\n",
      "Elizabeth     16       5.6       76\n",
      "Mary          18       5.6       66\n",
      "Susan         17       6.1       87\n",
      "Waje          20       6         95\n",
      "Taibat        19       5.7       50\n",
      "Lilian        12       5.5       49\n",
      "Below is the table for boys\n",
      "NAME       AGE    HEIGHT    SCORE\n",
      "-------  -----  --------  -------\n",
      "Charles     19       5.7       74\n",
      "Jude        16       5.9       87\n",
      "James       18       5.8       75\n",
      "Kelvin      17       6.1       68\n",
      "Biodun      20       5.4       66\n",
      "Wale        19       5.8       78\n",
      "Kunle       16       6.1       87\n",
      "Matthew     18       5.4       98\n",
      "Tom         17       5.8       54\n",
      "Kayode      19       5.7       60\n"
     ]
    }
   ],
   "source": [
    "print(\"I have been employed to work for School of Science and Technology.\")\n",
    "print(\"So my job is to provide and provide a code for in a tabular form that shows: Name, Age, Height, Scores.\\n\")\n",
    "\n",
    "# So welcome once again to my tutorial. Last week project was quit amazing\n",
    "AAA = 'So welcome again to my tutorial.'\n",
    "# But this week I promise you good things.\n",
    "BBB = 'Last week project was quite amazing.'\n",
    "\n",
    "TOTAL = ''+AAA + '' + BBB\n",
    "print(TOTAL)\n",
    "\n",
    "print('Let us begin to code.' )\n",
    "\n",
    "# STEP 1. We are going to write a tuple for the name of the girls with thier corresponding age, height and score.\n",
    "print(\"Below is the data table  girls\")\n",
    "from tabulate import tabulate\n",
    "# The name, age, score, height will be defined as a variable for one header\n",
    "header = [\"NAME\", \"AGE\", \"HEIGHT\", \"SCORE\"]\n",
    "# WE WILL DECLARE A VARIABLE FOR THE DATA FOR EACH PERSON.\n",
    "info = [[\"Samantha\", 17, 5.5, 80],\n",
    "        [\"Jada\", 16, 6.0, 85],\n",
    "       [\"Jare\", 17, 5.4, 70],\n",
    "       [\"Claire\", 18, 5.9, 60],\n",
    "       [\"Elizabeth\", 16, 5.6, 76],\n",
    "       ['Mary', 18, 5.6, 66],\n",
    "       ['Susan', 17, 6.1, 87],\n",
    "       ['Waje', 20, 6.0, 95],\n",
    "       ['Taibat', 19, 5.7, 50],\n",
    "       ['Lilian', 12, 5.5, 49],]\n",
    "# Next we will create a table using a tabulate function \n",
    "\n",
    "table = tabulate(info, header)\n",
    "print(table)\n",
    "\n",
    "# We repeat the same process for both boys and girls.\n",
    "print(\"Below is the table for boys\")\n",
    "header = ['NAME', 'AGE', 'HEIGHT', 'SCORE']\n",
    "# We declare a variable for the data\n",
    "info = [['Charles', 19, 5.7, 74],\n",
    "       ['Jude', 16, 5.9, 87],\n",
    "       ['James', 18, 5.8, 75],\n",
    "       ['Kelvin', 17, 6.1, 68],\n",
    "       ['Biodun', 20, 5.4,66],\n",
    "       ['Wale', 19, 5.8, 78],\n",
    "       ['Kunle', 16, 6.1,87],\n",
    "       ['Matthew', 18, 5.4,98],\n",
    "       ['Tom', 17, 5.8, 54],\n",
    "       ['Kayode', 19, 5.7, 60]]\n",
    "\n",
    "# Finally we will create a table using the table function.\n",
    "table = tabulate(info, header)\n",
    "print(table)"
   ]
  },
  {
   "cell_type": "code",
   "execution_count": null,
   "id": "28bfd845",
   "metadata": {},
   "outputs": [
    {
     "name": "stdout",
     "output_type": "stream",
     "text": [
      "Good day everyone.\n",
      "Interswitch offered me a job as a full stack developer.\n",
      "Who is a full stack developer?\n",
      "It is a person who write codes as a backend or frontend.\n",
      "All the staff are to fill in their correct age and years of experience\n"
     ]
    }
   ],
   "source": [
    "# Explain what you want to do.\n",
    "print(\"Good day everyone.\")\n",
    "print(\"Interswitch offered me a job as a full stack developer.\")\n",
    "print('Who is a full stack developer?')\n",
    "print('It is a person who write codes as a backend or frontend.')\n",
    "print(\"All the staff are to fill in their correct age and years of experience\")\n",
    "\n",
    "# Devolop a python program that takes the years of experience and input the years of experience and the age of the staff\n",
    "# I will declare a variable for years of experience and the age of the staff. \n",
    "A = float(input('Enter your age:'))\n",
    "B = float(input('Enter the number of years of your working experience: '))\n",
    "\n",
    "# Next up. We will be writing using an if statement to specify the certain amount of salary for the company.\n",
    "\n",
    "\n",
    "if B > 25 and A>= 55:\n",
    "    ATR = 5600000\n",
    "    print(f'Your Anuual Tax Revenue is:{ATR}' ) \n",
    "    \n",
    "if B > 20 and A >= 45:\n",
    "    ATR = 4480000\n",
    "    print(f'Your Annual Revenue is: {ATR}' )\n",
    "    \n",
    "if B > 10 and A >= 35:\n",
    "    ATR = 1500000\n",
    "    print(f'Your Annual Tax Revenue is: {ATR}')\n",
    "    \n",
    "else:\n",
    "    B > 35 and A >= 10\n",
    "    ATR = 550000\n",
    "    print(f'Your Annual Tax Revenue is: {ATR}')\n",
    "    \n",
    "# If you notice if there was no ATR when you attached your name it means you are not qualified.      \n",
    "    "
   ]
  },
  {
   "cell_type": "code",
   "execution_count": 20,
   "id": "ebfbe42e",
   "metadata": {},
   "outputs": [],
   "source": [
    "\n",
    "\n"
   ]
  },
  {
   "cell_type": "markdown",
   "id": "18372ad9",
   "metadata": {},
   "source": []
  },
  {
   "cell_type": "code",
   "execution_count": null,
   "id": "cd4082f1",
   "metadata": {},
   "outputs": [],
   "source": []
  },
  {
   "cell_type": "code",
   "execution_count": null,
   "id": "54d8d2c7",
   "metadata": {},
   "outputs": [],
   "source": []
  }
 ],
 "metadata": {
  "kernelspec": {
   "display_name": "Python 3 (ipykernel)",
   "language": "python",
   "name": "python3"
  },
  "language_info": {
   "codemirror_mode": {
    "name": "ipython",
    "version": 3
   },
   "file_extension": ".py",
   "mimetype": "text/x-python",
   "name": "python",
   "nbconvert_exporter": "python",
   "pygments_lexer": "ipython3",
   "version": "3.10.9"
  }
 },
 "nbformat": 4,
 "nbformat_minor": 5
}
