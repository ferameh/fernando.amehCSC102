{
 "cells": [
  {
   "cell_type": "code",
   "execution_count": 6,
   "id": "0d9b6f3c",
   "metadata": {},
   "outputs": [],
   "source": [
    "# Python program to print strings and type\n",
    "\n",
    "str1 = \"Hi, my name is Fernando. I am a string.\"\n",
    "str2 = 'Hi, meet Aisha. She is also a string.'\n"
   ]
  },
  {
   "cell_type": "code",
   "execution_count": 3,
   "id": "d359e769",
   "metadata": {},
   "outputs": [
    {
     "name": "stdout",
     "output_type": "stream",
     "text": [
      "Hi, my name is Fernando. I am a string.\n",
      "<class 'str'>\n"
     ]
    }
   ],
   "source": [
    "# display string str1 and its type\n",
    "print(str1)\n",
    "print(type(str1))\n"
   ]
  },
  {
   "cell_type": "code",
   "execution_count": 7,
   "id": "bfd0148b",
   "metadata": {},
   "outputs": [
    {
     "name": "stdout",
     "output_type": "stream",
     "text": [
      "Hi, meet Aisha. She is also a string.\n",
      "<class 'str'>\n"
     ]
    }
   ],
   "source": [
    "# display str2 and its type\n",
    "print(str2)\n",
    "print(type(str2))\n"
   ]
  },
  {
   "cell_type": "code",
   "execution_count": null,
   "id": "9d9f5696",
   "metadata": {},
   "outputs": [],
   "source": []
  }
 ],
 "metadata": {
  "kernelspec": {
   "display_name": "Python 3 (ipykernel)",
   "language": "python",
   "name": "python3"
  },
  "language_info": {
   "codemirror_mode": {
    "name": "ipython",
    "version": 3
   },
   "file_extension": ".py",
   "mimetype": "text/x-python",
   "name": "python",
   "nbconvert_exporter": "python",
   "pygments_lexer": "ipython3",
   "version": "3.10.9"
  }
 },
 "nbformat": 4,
 "nbformat_minor": 5
}
