{
 "cells": [
  {
   "cell_type": "code",
   "execution_count": 1,
   "id": "e29a6657",
   "metadata": {},
   "outputs": [
    {
     "name": "stdout",
     "output_type": "stream",
     "text": [
      "100\n",
      "Data Type of variable num is <class 'int'>\n"
     ]
    }
   ],
   "source": [
    "# In this practice we are going to find out the numeric datatype in python.\n",
    "\n",
    "# Interger number.\n",
    "num = 100\n",
    "print(num)\n",
    "print(\"Data Type of variable num is\", type(num))"
   ]
  },
  {
   "cell_type": "code",
   "execution_count": 2,
   "id": "61ad1fca",
   "metadata": {},
   "outputs": [
    {
     "name": "stdout",
     "output_type": "stream",
     "text": [
      "34.45\n"
     ]
    }
   ],
   "source": [
    "# Float number\n",
    "fnum = 34.45\n",
    "print(fnum)"
   ]
  },
  {
   "cell_type": "code",
   "execution_count": 3,
   "id": "78623a98",
   "metadata": {},
   "outputs": [
    {
     "name": "stdout",
     "output_type": "stream",
     "text": [
      "Data Type of variable fnum is <class 'float'>\n"
     ]
    }
   ],
   "source": [
    "print(\"Data Type of variable fnum is\", type(fnum))\n"
   ]
  },
  {
   "cell_type": "code",
   "execution_count": 4,
   "id": "4ff87a84",
   "metadata": {},
   "outputs": [
    {
     "name": "stdout",
     "output_type": "stream",
     "text": [
      "(3+4j)\n",
      "Data Type of variable cnum is <class 'complex'>\n"
     ]
    }
   ],
   "source": [
    "# Complex number\n",
    "cnum = 3 + 4j\n",
    "print(cnum)\n",
    "print(\"Data Type of variable cnum is\", type(cnum))"
   ]
  },
  {
   "cell_type": "code",
   "execution_count": null,
   "id": "46ef4e88",
   "metadata": {},
   "outputs": [],
   "source": []
  }
 ],
 "metadata": {
  "kernelspec": {
   "display_name": "Python 3 (ipykernel)",
   "language": "python",
   "name": "python3"
  },
  "language_info": {
   "codemirror_mode": {
    "name": "ipython",
    "version": 3
   },
   "file_extension": ".py",
   "mimetype": "text/x-python",
   "name": "python",
   "nbconvert_exporter": "python",
   "pygments_lexer": "ipython3",
   "version": "3.10.9"
  }
 },
 "nbformat": 4,
 "nbformat_minor": 5
}
