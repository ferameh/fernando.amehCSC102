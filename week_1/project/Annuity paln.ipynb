{
 "cells": [
  {
   "cell_type": "code",
   "execution_count": 1,
   "id": "7384a769",
   "metadata": {},
   "outputs": [
    {
     "name": "stdout",
     "output_type": "stream",
     "text": [
      " enter principal: 1000.54\n",
      " enter rate : 5\n",
      " enter time: 6\n",
      " enter frequency: 9\n",
      "The compound interest is :  23017220204442.582\n"
     ]
    }
   ],
   "source": [
    "# Now we can solve for the annuity\n",
    "periodic_payment = float(input(\" enter periodic payment : \"))\n",
    "rate = float(input(\" enter rate : \"))\n",
    "time = float(input(\" enter time: \"))\n",
    "frequency = float(input(\" enter frequency: \")) \n",
    "\n",
    "# solve for the compound interest\n",
    "\n",
    "annuity_plan  = periodic_payment * ((1 - (1+ rate/ frequency) **(-frequency* time))- (rate/frequency))\n",
    "\n",
    "# output\n",
    "\n",
    "print(\"The Annuity plan is : \", annuity_plan)\n",
    "\n",
    "\n",
    "\n",
    "\n",
    "\n"
   ]
  },
  {
   "cell_type": "code",
   "execution_count": null,
   "id": "2a91d7ad",
   "metadata": {},
   "outputs": [],
   "source": []
  }
 ],
 "metadata": {
  "kernelspec": {
   "display_name": "Python 3 (ipykernel)",
   "language": "python",
   "name": "python3"
  },
  "language_info": {
   "codemirror_mode": {
    "name": "ipython",
    "version": 3
   },
   "file_extension": ".py",
   "mimetype": "text/x-python",
   "name": "python",
   "nbconvert_exporter": "python",
   "pygments_lexer": "ipython3",
   "version": "3.10.9"
  }
 },
 "nbformat": 4,
 "nbformat_minor": 5
}
