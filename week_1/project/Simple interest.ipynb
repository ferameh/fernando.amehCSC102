{
 "cells": [
  {
   "cell_type": "code",
   "execution_count": 1,
   "id": "f5728d78",
   "metadata": {},
   "outputs": [
    {
     "name": "stdout",
     "output_type": "stream",
     "text": [
      "Enter the principal amount: \n",
      "21\n",
      "Enter the rate of the interest: \n",
      "5\n",
      "Enter the number of years: \n",
      "7\n",
      "\n",
      " simple_interest:\n",
      "28.35\n"
     ]
    }
   ],
   "source": [
    "# Solve for the simple interest\n",
    "\n",
    "print(\"Enter the principal amount: \")\n",
    "p = int(input())\n",
    "\n",
    "print(\"Enter the rate of the interest: \")\n",
    "r = float(input())\n",
    "\n",
    "print(\"Enter the number of years: \")\n",
    "t = float(input()) \n",
    "\n",
    "\n",
    "# Calculation\n",
    "k = r/100\n",
    "A = p *(1 + (k) * t )\n",
    "\n",
    "# Here we print the solution\n",
    "print(\"\\n simple_interest:\" )\n",
    "print(A)\n",
    "    "
   ]
  },
  {
   "cell_type": "code",
   "execution_count": null,
   "id": "dfc52063",
   "metadata": {},
   "outputs": [],
   "source": []
  },
  {
   "cell_type": "code",
   "execution_count": null,
   "id": "175ab456",
   "metadata": {},
   "outputs": [],
   "source": []
  },
  {
   "cell_type": "code",
   "execution_count": null,
   "id": "b3ff54b6",
   "metadata": {},
   "outputs": [],
   "source": []
  }
 ],
 "metadata": {
  "kernelspec": {
   "display_name": "Python 3 (ipykernel)",
   "language": "python",
   "name": "python3"
  },
  "language_info": {
   "codemirror_mode": {
    "name": "ipython",
    "version": 3
   },
   "file_extension": ".py",
   "mimetype": "text/x-python",
   "name": "python",
   "nbconvert_exporter": "python",
   "pygments_lexer": "ipython3",
   "version": "3.10.9"
  }
 },
 "nbformat": 4,
 "nbformat_minor": 5
}
